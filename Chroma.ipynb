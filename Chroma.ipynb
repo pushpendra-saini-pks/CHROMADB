{
 "cells": [
  {
   "cell_type": "markdown",
   "metadata": {},
   "source": [
    "## vector Database "
   ]
  },
  {
   "cell_type": "markdown",
   "metadata": {},
   "source": [
    "A vector is designed to store and manage high-dimensional vectors, which are often the outputs of machine learning models , particularly embeddings from neural networks.These vectors represent data (such as words , images,or any other obeject) in numerical form,enabling efficient similarity searches . the goal is to find data points (vectors) that are close to a given query vector using distance metrics like Euclidian distance , cosine similarity etc."
   ]
  },
  {
   "cell_type": "markdown",
   "metadata": {},
   "source": [
    "### why use a vector Database?\n",
    "\n",
    "- fast similarity search : quickly find similar vectors (documents,images etc.) for recommedations or matching.\n",
    "- scalability : Designed to handle millions or billions of vectors.\n",
    "- embeddings-based search : useful in scenarious where traditional keyword search doesn't work well(eg.semantic search , recommendation engines)\n"
   ]
  },
  {
   "cell_type": "markdown",
   "metadata": {},
   "source": [
    "## ChormaDB \n",
    "\n",
    "chromaDB is an open-source vector database built for embeddings, particularly used in applications like semantic search , recommendation systems and generative AI tasks. ChromaDB is optimized for integrations with various machine learning frameworks and models , allowing you to manage and query large-scale-vectorized data efficiently."
   ]
  },
  {
   "cell_type": "code",
   "execution_count": 2,
   "metadata": {},
   "outputs": [],
   "source": [
    "from langchain_community.vectorstores import Chroma \n",
    "from langchain_community.document_loaders import TextLoader\n",
    "from langchain_community.embeddings import OllamaEmbeddings\n",
    "from langchain_text_splitters import RecursiveCharacterTextSplitter"
   ]
  },
  {
   "cell_type": "code",
   "execution_count": 11,
   "metadata": {},
   "outputs": [
    {
     "data": {
      "text/plain": [
       "[Document(metadata={'source': 'solar_system.txt'}, page_content=\"The Solar System is a vast and fascinating part of the universe, consisting of the Sun and everything bound to it by gravity. This includes eight planets, their moons, asteroids, comets, and meteoroids. The Sun, located at the center, is by far the largest object in the Solar System, containing about 99.8% of the system's total mass. The planets orbit the Sun in elliptical paths, with varying distances from the Sun.\\n\\nThe four inner planets—Mercury, Venus, Earth, and Mars—are terrestrial planets, composed mostly of rock and metal. The outer planets—Jupiter, Saturn, Uranus, and Neptune—are gas giants, consisting mainly of hydrogen and helium. Each planet has its unique characteristics and features, such as rings around Saturn and the massive storm on Jupiter known as the Great Red Spot.\\n\\nApart from the planets, the Solar System is also home to dwarf planets like Pluto, Ceres, and Eris. These celestial bodies share characteristics with the eight main planets but are smaller and have not cleared their orbits of other debris.\\n\\nAsteroids, mostly found in the asteroid belt between Mars and Jupiter, are rocky remnants from the early Solar System. Comets, with their glowing tails, originate from the outer regions of the Solar System and are composed of ice, dust, and rocky material. Meteoroids, which become meteors when they enter Earth's atmosphere, are small particles from comets or asteroids.\\n\\nThe Solar System is a dynamic and ever-changing system, offering endless opportunities for exploration and discovery. Scientists continue to study it to better understand the origins of our universe and the potential for life beyond Earth.\")]"
      ]
     },
     "execution_count": 11,
     "metadata": {},
     "output_type": "execute_result"
    }
   ],
   "source": [
    "# Load the documents \n",
    "loader = TextLoader(\"solar_system.txt\")\n",
    "data = loader.load()\n",
    "data \n"
   ]
  },
  {
   "cell_type": "code",
   "execution_count": 12,
   "metadata": {},
   "outputs": [],
   "source": [
    "# split \n",
    "text_splitter = RecursiveCharacterTextSplitter(chunk_size=500,chunk_overlap=0)\n",
    "spilts = text_splitter.split_documents(data)"
   ]
  },
  {
   "cell_type": "code",
   "execution_count": 13,
   "metadata": {},
   "outputs": [
    {
     "name": "stdout",
     "output_type": "stream",
     "text": [
      "[Document(metadata={'source': 'solar_system.txt'}, page_content=\"The Solar System is a vast and fascinating part of the universe, consisting of the Sun and everything bound to it by gravity. This includes eight planets, their moons, asteroids, comets, and meteoroids. The Sun, located at the center, is by far the largest object in the Solar System, containing about 99.8% of the system's total mass. The planets orbit the Sun in elliptical paths, with varying distances from the Sun.\"), Document(metadata={'source': 'solar_system.txt'}, page_content='The four inner planets—Mercury, Venus, Earth, and Mars—are terrestrial planets, composed mostly of rock and metal. The outer planets—Jupiter, Saturn, Uranus, and Neptune—are gas giants, consisting mainly of hydrogen and helium. Each planet has its unique characteristics and features, such as rings around Saturn and the massive storm on Jupiter known as the Great Red Spot.'), Document(metadata={'source': 'solar_system.txt'}, page_content='Apart from the planets, the Solar System is also home to dwarf planets like Pluto, Ceres, and Eris. These celestial bodies share characteristics with the eight main planets but are smaller and have not cleared their orbits of other debris.'), Document(metadata={'source': 'solar_system.txt'}, page_content=\"Asteroids, mostly found in the asteroid belt between Mars and Jupiter, are rocky remnants from the early Solar System. Comets, with their glowing tails, originate from the outer regions of the Solar System and are composed of ice, dust, and rocky material. Meteoroids, which become meteors when they enter Earth's atmosphere, are small particles from comets or asteroids.\"), Document(metadata={'source': 'solar_system.txt'}, page_content='The Solar System is a dynamic and ever-changing system, offering endless opportunities for exploration and discovery. Scientists continue to study it to better understand the origins of our universe and the potential for life beyond Earth.')]\n"
     ]
    }
   ],
   "source": [
    "print(spilts)"
   ]
  },
  {
   "cell_type": "code",
   "execution_count": 14,
   "metadata": {},
   "outputs": [
    {
     "data": {
      "text/plain": [
       "<langchain_community.vectorstores.chroma.Chroma at 0x151785703b0>"
      ]
     },
     "execution_count": 14,
     "metadata": {},
     "output_type": "execute_result"
    }
   ],
   "source": [
    "embeddings = OllamaEmbeddings(model='mxbai-embed-large')\n",
    "vectordb = Chroma.from_documents(documents=spilts, embedding=embeddings)\n",
    "vectordb"
   ]
  },
  {
   "cell_type": "code",
   "execution_count": 15,
   "metadata": {},
   "outputs": [
    {
     "data": {
      "text/plain": [
       "\"Asteroids, mostly found in the asteroid belt between Mars and Jupiter, are rocky remnants from the early Solar System. Comets, with their glowing tails, originate from the outer regions of the Solar System and are composed of ice, dust, and rocky material. Meteoroids, which become meteors when they enter Earth's atmosphere, are small particles from comets or asteroids.\""
      ]
     },
     "execution_count": 15,
     "metadata": {},
     "output_type": "execute_result"
    }
   ],
   "source": [
    "## query it \n",
    "query = \"How does the asteroid belt between Mars and Jupiter?\"\n",
    "docs = vectordb.similarity_search(query)\n",
    "docs[0].page_content"
   ]
  },
  {
   "cell_type": "code",
   "execution_count": 16,
   "metadata": {},
   "outputs": [],
   "source": [
    "# save to the disk \n",
    "\n",
    "vectordb = Chroma.from_documents(documents=spilts,embedding=embeddings , persist_directory=\"./chroma.db\")"
   ]
  },
  {
   "cell_type": "code",
   "execution_count": 17,
   "metadata": {},
   "outputs": [
    {
     "name": "stderr",
     "output_type": "stream",
     "text": [
      "C:\\Users\\pkkar\\AppData\\Local\\Temp\\ipykernel_11356\\3191420241.py:2: LangChainDeprecationWarning: The class `Chroma` was deprecated in LangChain 0.2.9 and will be removed in 1.0. An updated version of the class exists in the :class:`~langchain-chroma package and should be used instead. To use it run `pip install -U :class:`~langchain-chroma` and import as `from :class:`~langchain_chroma import Chroma``.\n",
      "  db2 = Chroma(persist_directory=\"./chroma.db\" , embedding_function=embeddings)\n"
     ]
    },
    {
     "name": "stdout",
     "output_type": "stream",
     "text": [
      "Asteroids, mostly found in the asteroid belt between Mars and Jupiter, are rocky remnants from the early Solar System. Comets, with their glowing tails, originate from the outer regions of the Solar System and are composed of ice, dust, and rocky material. Meteoroids, which become meteors when they enter Earth's atmosphere, are small particles from comets or asteroids.\n"
     ]
    }
   ],
   "source": [
    "# load the disk \n",
    "db2 = Chroma(persist_directory=\"./chroma.db\" , embedding_function=embeddings)\n",
    "docs = db2.similarity_search(query)\n",
    "print(docs[0].page_content)"
   ]
  },
  {
   "cell_type": "code",
   "execution_count": 18,
   "metadata": {},
   "outputs": [
    {
     "data": {
      "text/plain": [
       "(Document(metadata={'source': 'solar_system.txt'}, page_content=\"Asteroids, mostly found in the asteroid belt between Mars and Jupiter, are rocky remnants from the early Solar System. Comets, with their glowing tails, originate from the outer regions of the Solar System and are composed of ice, dust, and rocky material. Meteoroids, which become meteors when they enter Earth's atmosphere, are small particles from comets or asteroids.\"),\n",
       " 181.56572332382945)"
      ]
     },
     "execution_count": 18,
     "metadata": {},
     "output_type": "execute_result"
    }
   ],
   "source": [
    "# similarity search with score \n",
    "docs = vectordb.similarity_search_with_score(query)\n",
    "docs[0]"
   ]
  },
  {
   "cell_type": "code",
   "execution_count": 19,
   "metadata": {},
   "outputs": [
    {
     "data": {
      "text/plain": [
       "\"Asteroids, mostly found in the asteroid belt between Mars and Jupiter, are rocky remnants from the early Solar System. Comets, with their glowing tails, originate from the outer regions of the Solar System and are composed of ice, dust, and rocky material. Meteoroids, which become meteors when they enter Earth's atmosphere, are small particles from comets or asteroids.\""
      ]
     },
     "execution_count": 19,
     "metadata": {},
     "output_type": "execute_result"
    }
   ],
   "source": [
    "## retriever option \n",
    "retriever = vectordb.as_retriever()\n",
    "retriever.invoke(query)[0].page_content"
   ]
  },
  {
   "cell_type": "code",
   "execution_count": null,
   "metadata": {},
   "outputs": [],
   "source": []
  }
 ],
 "metadata": {
  "kernelspec": {
   "display_name": "Python 3",
   "language": "python",
   "name": "python3"
  },
  "language_info": {
   "codemirror_mode": {
    "name": "ipython",
    "version": 3
   },
   "file_extension": ".py",
   "mimetype": "text/x-python",
   "name": "python",
   "nbconvert_exporter": "python",
   "pygments_lexer": "ipython3",
   "version": "3.12.0"
  }
 },
 "nbformat": 4,
 "nbformat_minor": 2
}
